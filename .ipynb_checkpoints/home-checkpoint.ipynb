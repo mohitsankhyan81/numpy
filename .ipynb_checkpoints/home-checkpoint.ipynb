{
 "cells": [
  {
   "cell_type": "markdown",
   "id": "4cfa85cd-c2ee-46fb-ad6f-a95874c5d6f4",
   "metadata": {},
   "source": [
    "#Welcome in the virtual server"
   ]
  },
  {
   "cell_type": "code",
   "execution_count": 1,
   "id": "952d452b-368a-48bb-8117-a7a65432c282",
   "metadata": {},
   "outputs": [
    {
     "name": "stdout",
     "output_type": "stream",
     "text": [
      "my name is mohit sankhyan\n"
     ]
    }
   ],
   "source": [
    "print(\"my name is mohit sankhyan\")"
   ]
  },
  {
   "cell_type": "code",
   "execution_count": null,
   "id": "f4d1016b-8b4d-438c-be83-ebc4a86eee3a",
   "metadata": {},
   "outputs": [],
   "source": []
  }
 ],
 "metadata": {
  "kernelspec": {
   "display_name": "Python 3 (ipykernel)",
   "language": "python",
   "name": "python3"
  },
  "language_info": {
   "codemirror_mode": {
    "name": "ipython",
    "version": 3
   },
   "file_extension": ".py",
   "mimetype": "text/x-python",
   "name": "python",
   "nbconvert_exporter": "python",
   "pygments_lexer": "ipython3",
   "version": "3.12.7"
  }
 },
 "nbformat": 4,
 "nbformat_minor": 5
}
